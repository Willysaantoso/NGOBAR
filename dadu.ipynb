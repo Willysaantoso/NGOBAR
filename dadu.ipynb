{
  "nbformat": 4,
  "nbformat_minor": 0,
  "metadata": {
    "colab": {
      "provenance": [],
      "authorship_tag": "ABX9TyPHMa886VY/X1F9ji9auASR",
      "include_colab_link": true
    },
    "kernelspec": {
      "name": "python3",
      "display_name": "Python 3"
    },
    "language_info": {
      "name": "python"
    }
  },
  "cells": [
    {
      "cell_type": "markdown",
      "metadata": {
        "id": "view-in-github",
        "colab_type": "text"
      },
      "source": [
        "<a href=\"https://colab.research.google.com/github/Willysaantoso/NGOBAR/blob/main/dadu.ipynb\" target=\"_parent\"><img src=\"https://colab.research.google.com/assets/colab-badge.svg\" alt=\"Open In Colab\"/></a>"
      ]
    },
    {
      "cell_type": "code",
      "execution_count": null,
      "metadata": {
        "id": "jwed99ei0XrS"
      },
      "outputs": [],
      "source": [
        "import random\n",
        "\n",
        "def lempar_dadu():\n",
        "    \"\"\"Fungsi untuk melempar dadu dan mengembalikan hasilnya (1-6).\"\"\"\n",
        "    return random.randint(1, 6)\n",
        "\n",
        "def lempar_dadu_beberapa_kali(jumlah):\n",
        "    \"\"\"Fungsi untuk melempar dadu beberapa kali dan mengembalikan hasilnya.\"\"\"\n",
        "    hasil = [lempar_dadu() for _ in range(jumlah)]\n",
        "    return hasil"
      ]
    }
  ]
}